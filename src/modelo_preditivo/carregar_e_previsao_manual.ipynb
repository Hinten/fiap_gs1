{
 "cells": [
  {
   "cell_type": "markdown",
   "id": "ad4a28c6",
   "metadata": {},
   "source": [
    "📡 Previsão com dados da API usando modelo treinado\n",
    "\n",
    "Neste trecho, os valores que podem vir de uma API são armazenados em variáveis simples (data_api, cota_api e chuva_api), facilitando a substituição direta por dados reais da API sem necessidade de conversão adicional. Em seguida, esses valores são organizados em um DataFrame, que é a estrutura esperada pelo modelo para fazer a previsão, o modelo e o scaler, previamente treinados e salvos, são carregados com joblib. O scaler é aplicado ao novo dado para normalizar as variáveis conforme o treinamento. Por fim, a previsão é feita pelo modelo, e o resultado numérico é convertido de volta para o valor categórico original com LabelEncoder.\n",
    "\n",
    "Este fluxo permite receber dados diretamente da API, aplicar o modelo treinado e obter uma previsão interpretável de forma simples e organizada."
   ]
  },
  {
   "cell_type": "code",
   "execution_count": 8,
   "id": "68c808de",
   "metadata": {},
   "outputs": [
    {
     "name": "stdout",
     "output_type": "stream",
     "text": [
      "Previsão: Inundação provável\n"
     ]
    }
   ],
   "source": [
    "# --- Importações necessárias ---\n",
    "import pandas as pd\n",
    "import joblib\n",
    "\n",
    "# --- Valores que podem vir da API ---\n",
    "data_api = 106      \n",
    "cota_api = 500      \n",
    "chuva_api = 14      \n",
    "\n",
    "# --- Criando DataFrame com variáveis simples, fácil de substituir por dados da API ---\n",
    "novo_dado = pd.DataFrame({\n",
    "    'Data': [data_api],\n",
    "    'Cota': [cota_api],\n",
    "    'Chuva': [chuva_api]\n",
    "})\n",
    "\n",
    "# --- Carregando modelo, scaler e label encoder salvos ---\n",
    "nome_arquivo = 'modelos_salvos/GradBoost200.pkl'  \n",
    "dados = joblib.load(nome_arquivo)\n",
    "\n",
    "modelo = dados['modelo']\n",
    "scaler = dados['scaler']\n",
    "le = dados['label_encoder']  # <--- Aqui está o carregamento do LabelEncoder\n",
    "\n",
    "# --- Aplicando o scaler ao novo dado ---\n",
    "novo_dado_scaled = scaler.transform(novo_dado)\n",
    "\n",
    "# --- Fazendo a previsão ---\n",
    "previsao = modelo.predict(novo_dado_scaled)\n",
    "\n",
    "# --- Convertendo o resultado para a categoria original (texto) ---\n",
    "previsao_texto = le.inverse_transform(previsao)\n",
    "\n",
    "# --- Exibindo o resultado ---\n",
    "print(f\"Previsão: {previsao_texto[0]}\")"
   ]
  }
 ],
 "metadata": {
  "kernelspec": {
   "display_name": "Python 3",
   "language": "python",
   "name": "python3"
  },
  "language_info": {
   "codemirror_mode": {
    "name": "ipython",
    "version": 3
   },
   "file_extension": ".py",
   "mimetype": "text/x-python",
   "name": "python",
   "nbconvert_exporter": "python",
   "pygments_lexer": "ipython3",
   "version": "3.13.2"
  }
 },
 "nbformat": 4,
 "nbformat_minor": 5
}
