{
 "cells": [
  {
   "cell_type": "markdown",
   "id": "8492eb0e",
   "metadata": {},
   "source": [
    "👨‍🎓 Integrantes:\n",
    "\n",
    "Alice C. M. Assis - RM 566233\n",
    "\n",
    "Leonardo S. Souza - RM 563928\n",
    "\n",
    "Lucas B. Francelino - RM 561409\n",
    "\n",
    "Pedro L. T. Silva - RM 561644\n",
    "\n",
    "Vitor A. Bezerra - RM 563001\n",
    "\n",
    "GitHub: \n",
    "\n",
    "https://github.com/Hinten/fiap_gs1"
   ]
  },
  {
   "cell_type": "markdown",
   "id": "3db6ee32",
   "metadata": {},
   "source": [
    "🔍 Importação de bibliotecas especializadas para análise de dados agrícolas\n",
    "\n",
    "Nesta célula, são importadas bibliotecas essenciais para análise de dados e pré-processamento e modelagem (sklearn). Essas ferramentas fornecem funcionalidades fundamentais para manipulação de datasets, transformação de variáveis e construção de modelos preditivos eficientes."
   ]
  },
  {
   "cell_type": "code",
   "execution_count": 663,
   "id": "33f35ecb",
   "metadata": {},
   "outputs": [],
   "source": [
    "# 🔍 Importação de bibliotecas especializadas para análise de dados agrícolas\n",
    "\n",
    "# ------------------------------\n",
    "# 📊 Manipulação e Visualização\n",
    "# ------------------------------\n",
    "import pandas as pd\n",
    "import numpy as np\n",
    "import matplotlib.pyplot as plt\n",
    "import seaborn as sns\n",
    "import joblib\n",
    "\n",
    "# ------------------------------\n",
    "# 🔄 Pré-processamento\n",
    "# ------------------------------\n",
    "from sklearn.preprocessing import StandardScaler, LabelEncoder, OneHotEncoder, MinMaxScaler\n",
    "from sklearn.model_selection import train_test_split, StratifiedKFold\n",
    "\n",
    "# ------------------------------\n",
    "# 🤖 Modelagem (Classificadores)\n",
    "# ------------------------------\n",
    "from sklearn.linear_model import LogisticRegression\n",
    "from sklearn.tree import DecisionTreeClassifier\n",
    "from sklearn.ensemble import (\n",
    "    RandomForestClassifier,\n",
    "    GradientBoostingClassifier,\n",
    "    AdaBoostClassifier,\n",
    "    BaggingClassifier,\n",
    "    ExtraTreesClassifier\n",
    ")\n",
    "from sklearn.svm import SVC\n",
    "from sklearn.neighbors import KNeighborsClassifier\n",
    "from sklearn.naive_bayes import GaussianNB\n",
    "from sklearn.neural_network import MLPClassifier\n",
    "from sklearn.discriminant_analysis import LinearDiscriminantAnalysis, QuadraticDiscriminantAnalysis\n",
    "from sklearn.calibration import CalibratedClassifierCV\n",
    "\n",
    "# ------------------------------\n",
    "# 🧪 Avaliação de Desempenho\n",
    "# ------------------------------\n",
    "from sklearn.metrics import (\n",
    "    accuracy_score,\n",
    "    precision_score,\n",
    "    recall_score,\n",
    "    f1_score,\n",
    "    confusion_matrix,\n",
    "    classification_report,\n",
    "    roc_auc_score\n",
    ")\n",
    "\n",
    "# ------------------------------\n",
    "# ⚙️ Utilitários\n",
    "# ------------------------------\n",
    "import random\n",
    "import time\n",
    "import os"
   ]
  },
  {
   "cell_type": "markdown",
   "id": "e6fe0243",
   "metadata": {},
   "source": [
    "📂 Definição do caminho de acesso aos dados da lavoura\n",
    "\n",
    "Aqui, o caminho do arquivo .csv contendo os dados agrícolas (com as colunas Data, Cota, Chuva e Nivel) é definido em uma variável. Essa prática torna o código mais organizado e permite reutilizar facilmente o caminho do arquivo ao longo do notebook, facilitando ajustes e reaproveitamento do script."
   ]
  },
  {
   "cell_type": "code",
   "execution_count": 664,
   "id": "adaa3b29",
   "metadata": {},
   "outputs": [],
   "source": [
    "#📂 Definição do caminho de acesso aos dados da lavoura\n",
    "\n",
    "csv_path = \"COTAxCHUVA.csv\""
   ]
  },
  {
   "cell_type": "markdown",
   "id": "a28e6408",
   "metadata": {},
   "source": [
    "📥 Carregamento do dataset para estrutura tabular do pandas\n",
    "\n",
    "Esta etapa carrega os dados do arquivo CSV para um DataFrame, que é a estrutura de dados mais comum do pandas. Isso permite a exploração, limpeza e análise dos dados referentes às medições de níveis de água (Cota), chuva e data, além da classificação em níveis de atenção (Nivel)."
   ]
  },
  {
   "cell_type": "code",
   "execution_count": 665,
   "id": "1614cce0",
   "metadata": {},
   "outputs": [],
   "source": [
    "#📥 Carregamento do dataset para estrutura tabular do pandas\n",
    "\n",
    "df = pd.read_csv(csv_path)"
   ]
  },
  {
   "cell_type": "markdown",
   "id": "c9df662b",
   "metadata": {},
   "source": [
    "📈 Estimativa dos níveis críticos de cota para monitoramento\n",
    "\n",
    "Nesta célula, são calculados os valores dos percentis 90 (P90), 95 (P95) e 98 (P98) da coluna 'Cota'. Esses percentis servem para estabelecer limites de referência para os níveis de atenção, alerta e inundação provável na análise das cotas de água. Os valores calculados ajudam a definir pontos críticos para ações preventivas na gestão da lavoura e monitoramento ambiental. "
   ]
  },
  {
   "cell_type": "code",
   "execution_count": 666,
   "id": "c5e46ed5",
   "metadata": {},
   "outputs": [
    {
     "name": "stdout",
     "output_type": "stream",
     "text": [
      "Cota de atenção (P90): 200.10\n",
      "Cota de alerta (P95): 231.00\n",
      "Cota de inundação provável (P98): 286.16\n"
     ]
    }
   ],
   "source": [
    "#📈 Estimativa dos níveis críticos de cota para monitoramento\n",
    "\n",
    "# Estimar cotas de atenção, alerta e inundação provável\n",
    "cota_atencao = df['Cota'].quantile(0.90)\n",
    "cota_alerta = df['Cota'].quantile(0.95)\n",
    "cota_inundacao = df['Cota'].quantile(0.98)\n",
    "\n",
    "print(f\"Cota de atenção (P90): {cota_atencao:.2f}\")\n",
    "print(f\"Cota de alerta (P95): {cota_alerta:.2f}\")\n",
    "print(f\"Cota de inundação provável (P98): {cota_inundacao:.2f}\")\n"
   ]
  },
  {
   "cell_type": "markdown",
   "id": "951f12c3",
   "metadata": {},
   "source": [
    "⚠️ Definição dos limites de risco e classificação do nível de inundação\n",
    "\n",
    "Nesta etapa, são definidos os valores fixos para os limites dos níveis de atenção, alerta e inundação provável baseados na variável 'Cota'. \n",
    "\n",
    "A função `classificar_nivel` recebe o valor da cota e classifica cada registro do DataFrame em uma das categorias de risco:\n",
    "-*Inundação provável*: cota acima do limite de inundação;\n",
    "-*Alerta elevado*: cota acima do limite de alerta, mas abaixo da inundação;\n",
    "-*Situação de atenção*: cota acima do limite de atenção, mas abaixo do alerta;\n",
    "-*Condições normais*: valores abaixo do limite de atenção.\n",
    "\n",
    "Por fim, essa classificação é aplicada para criar uma nova coluna chamada 'Nivel' no DataFrame, que será usada como variável alvo para análises e modelos preditivos."
   ]
  },
  {
   "cell_type": "code",
   "execution_count": 667,
   "id": "b7cd9fe0",
   "metadata": {},
   "outputs": [],
   "source": [
    "#⚠️ Definição dos limites de risco e classificação do nível de inundação\n",
    "\n",
    "# Definindo os limites\n",
    "limite_atencao = 205\n",
    "limite_alerta = 250\n",
    "limite_inundacao = 315\n",
    "\n",
    "# Criar nova coluna 'Nivel'\n",
    "def classificar_nivel(cota):\n",
    "    if cota > limite_inundacao:\n",
    "        return 'Inundação provável'\n",
    "    elif cota > limite_alerta:\n",
    "        return 'Alerta elevado'\n",
    "    elif cota > limite_atencao:\n",
    "        return 'Situação de atenção'\n",
    "    else:\n",
    "        return 'Condições normais'\n",
    "\n",
    "df['Nivel'] = df['Cota'].apply(classificar_nivel)\n"
   ]
  },
  {
   "cell_type": "markdown",
   "id": "54a1b10b",
   "metadata": {},
   "source": [
    "🔎 Inspeção inicial do dataset para compreensão de variáveis e formato\n",
    "\n",
    "Visualizar as primeiras linhas do DataFrame com df.head() serve como um ponto de partida para compreender a estrutura do dataset, verificar nomes de colunas, tipos de variáveis (como Data, Cota, Chuva e Inundacao) e identificar possíveis anomalias logo no início. "
   ]
  },
  {
   "cell_type": "code",
   "execution_count": 668,
   "id": "6efc21ca",
   "metadata": {},
   "outputs": [
    {
     "data": {
      "application/vnd.microsoft.datawrangler.viewer.v0+json": {
       "columns": [
        {
         "name": "index",
         "rawType": "int64",
         "type": "integer"
        },
        {
         "name": "Data",
         "rawType": "int64",
         "type": "integer"
        },
        {
         "name": "Cota",
         "rawType": "float64",
         "type": "float"
        },
        {
         "name": "Chuva",
         "rawType": "float64",
         "type": "float"
        },
        {
         "name": "Nivel",
         "rawType": "object",
         "type": "string"
        }
       ],
       "ref": "9f1da5b5-c9d7-4abf-baaf-35452357f101",
       "rows": [
        [
         "0",
         "101",
         "122.0",
         "0.0",
         "Condições normais"
        ],
        [
         "1",
         "201",
         "121.0",
         "0.0",
         "Condições normais"
        ],
        [
         "2",
         "301",
         "121.0",
         "0.0",
         "Condições normais"
        ],
        [
         "3",
         "401",
         "120.0",
         "0.0",
         "Condições normais"
        ],
        [
         "4",
         "501",
         "121.0",
         "0.4",
         "Condições normais"
        ],
        [
         "5",
         "601",
         "121.0",
         "3.9",
         "Condições normais"
        ],
        [
         "6",
         "701",
         "120.0",
         "0.0",
         "Condições normais"
        ],
        [
         "7",
         "801",
         "120.0",
         "0.0",
         "Condições normais"
        ],
        [
         "8",
         "901",
         "119.0",
         "0.0",
         "Condições normais"
        ],
        [
         "9",
         "1001",
         "119.0",
         "0.0",
         "Condições normais"
        ],
        [
         "10",
         "1101",
         "118.0",
         "0.0",
         "Condições normais"
        ],
        [
         "11",
         "1201",
         "118.0",
         "0.0",
         "Condições normais"
        ],
        [
         "12",
         "1301",
         "118.0",
         "0.0",
         "Condições normais"
        ],
        [
         "13",
         "1401",
         "118.0",
         "0.0",
         "Condições normais"
        ],
        [
         "14",
         "1501",
         "118.0",
         "0.0",
         "Condições normais"
        ],
        [
         "15",
         "1601",
         "118.0",
         "0.0",
         "Condições normais"
        ],
        [
         "16",
         "1701",
         "117.0",
         "0.0",
         "Condições normais"
        ],
        [
         "17",
         "1801",
         "117.0",
         "0.0",
         "Condições normais"
        ],
        [
         "18",
         "1901",
         "116.0",
         "0.0",
         "Condições normais"
        ],
        [
         "19",
         "2001",
         "116.0",
         "0.0",
         "Condições normais"
        ],
        [
         "20",
         "2101",
         "116.0",
         "0.0",
         "Condições normais"
        ],
        [
         "21",
         "2201",
         "115.0",
         "0.0",
         "Condições normais"
        ],
        [
         "22",
         "2301",
         "115.0",
         "0.0",
         "Condições normais"
        ],
        [
         "23",
         "2401",
         "115.0",
         "0.0",
         "Condições normais"
        ],
        [
         "24",
         "2501",
         "115.0",
         "0.0",
         "Condições normais"
        ],
        [
         "25",
         "2601",
         "116.0",
         "0.6",
         "Condições normais"
        ],
        [
         "26",
         "2701",
         "116.0",
         "0.0",
         "Condições normais"
        ],
        [
         "27",
         "2801",
         "126.0",
         "3.8",
         "Condições normais"
        ],
        [
         "28",
         "2901",
         "133.0",
         "0.6",
         "Condições normais"
        ],
        [
         "29",
         "3001",
         "121.0",
         "0.0",
         "Condições normais"
        ],
        [
         "30",
         "3101",
         "116.0",
         "0.0",
         "Condições normais"
        ],
        [
         "31",
         "102",
         "117.0",
         "2.0",
         "Condições normais"
        ],
        [
         "32",
         "202",
         "123.0",
         "0.0",
         "Condições normais"
        ],
        [
         "33",
         "302",
         "120.0",
         "0.0",
         "Condições normais"
        ],
        [
         "34",
         "402",
         "118.0",
         "0.0",
         "Condições normais"
        ],
        [
         "35",
         "502",
         "117.0",
         "1.5",
         "Condições normais"
        ],
        [
         "36",
         "602",
         "116.0",
         "0.0",
         "Condições normais"
        ],
        [
         "37",
         "702",
         "115.0",
         "0.0",
         "Condições normais"
        ],
        [
         "38",
         "802",
         "115.0",
         "0.0",
         "Condições normais"
        ],
        [
         "39",
         "902",
         "114.0",
         "0.0",
         "Condições normais"
        ],
        [
         "40",
         "1002",
         "113.0",
         "0.0",
         "Condições normais"
        ],
        [
         "41",
         "1102",
         "113.0",
         "0.0",
         "Condições normais"
        ],
        [
         "42",
         "1202",
         "112.0",
         "0.0",
         "Condições normais"
        ],
        [
         "43",
         "1302",
         "111.0",
         "0.0",
         "Condições normais"
        ],
        [
         "44",
         "1402",
         "111.0",
         "0.0",
         "Condições normais"
        ],
        [
         "45",
         "1502",
         "111.0",
         "0.0",
         "Condições normais"
        ],
        [
         "46",
         "1602",
         "110.0",
         "0.0",
         "Condições normais"
        ],
        [
         "47",
         "1702",
         "110.0",
         "0.0",
         "Condições normais"
        ],
        [
         "48",
         "1802",
         "110.0",
         "0.0",
         "Condições normais"
        ],
        [
         "49",
         "1902",
         "110.0",
         "0.0",
         "Condições normais"
        ]
       ],
       "shape": {
        "columns": 4,
        "rows": 558
       }
      },
      "text/html": [
       "<div>\n",
       "<style scoped>\n",
       "    .dataframe tbody tr th:only-of-type {\n",
       "        vertical-align: middle;\n",
       "    }\n",
       "\n",
       "    .dataframe tbody tr th {\n",
       "        vertical-align: top;\n",
       "    }\n",
       "\n",
       "    .dataframe thead th {\n",
       "        text-align: right;\n",
       "    }\n",
       "</style>\n",
       "<table border=\"1\" class=\"dataframe\">\n",
       "  <thead>\n",
       "    <tr style=\"text-align: right;\">\n",
       "      <th></th>\n",
       "      <th>Data</th>\n",
       "      <th>Cota</th>\n",
       "      <th>Chuva</th>\n",
       "      <th>Nivel</th>\n",
       "    </tr>\n",
       "  </thead>\n",
       "  <tbody>\n",
       "    <tr>\n",
       "      <th>0</th>\n",
       "      <td>101</td>\n",
       "      <td>122.0</td>\n",
       "      <td>0.0</td>\n",
       "      <td>Condições normais</td>\n",
       "    </tr>\n",
       "    <tr>\n",
       "      <th>1</th>\n",
       "      <td>201</td>\n",
       "      <td>121.0</td>\n",
       "      <td>0.0</td>\n",
       "      <td>Condições normais</td>\n",
       "    </tr>\n",
       "    <tr>\n",
       "      <th>2</th>\n",
       "      <td>301</td>\n",
       "      <td>121.0</td>\n",
       "      <td>0.0</td>\n",
       "      <td>Condições normais</td>\n",
       "    </tr>\n",
       "    <tr>\n",
       "      <th>3</th>\n",
       "      <td>401</td>\n",
       "      <td>120.0</td>\n",
       "      <td>0.0</td>\n",
       "      <td>Condições normais</td>\n",
       "    </tr>\n",
       "    <tr>\n",
       "      <th>4</th>\n",
       "      <td>501</td>\n",
       "      <td>121.0</td>\n",
       "      <td>0.4</td>\n",
       "      <td>Condições normais</td>\n",
       "    </tr>\n",
       "    <tr>\n",
       "      <th>...</th>\n",
       "      <td>...</td>\n",
       "      <td>...</td>\n",
       "      <td>...</td>\n",
       "      <td>...</td>\n",
       "    </tr>\n",
       "    <tr>\n",
       "      <th>553</th>\n",
       "      <td>2712</td>\n",
       "      <td>140.0</td>\n",
       "      <td>0.0</td>\n",
       "      <td>Condições normais</td>\n",
       "    </tr>\n",
       "    <tr>\n",
       "      <th>554</th>\n",
       "      <td>2812</td>\n",
       "      <td>137.0</td>\n",
       "      <td>0.0</td>\n",
       "      <td>Condições normais</td>\n",
       "    </tr>\n",
       "    <tr>\n",
       "      <th>555</th>\n",
       "      <td>2912</td>\n",
       "      <td>134.0</td>\n",
       "      <td>0.0</td>\n",
       "      <td>Condições normais</td>\n",
       "    </tr>\n",
       "    <tr>\n",
       "      <th>556</th>\n",
       "      <td>3012</td>\n",
       "      <td>132.0</td>\n",
       "      <td>0.0</td>\n",
       "      <td>Condições normais</td>\n",
       "    </tr>\n",
       "    <tr>\n",
       "      <th>557</th>\n",
       "      <td>3112</td>\n",
       "      <td>170.0</td>\n",
       "      <td>0.0</td>\n",
       "      <td>Condições normais</td>\n",
       "    </tr>\n",
       "  </tbody>\n",
       "</table>\n",
       "<p>558 rows × 4 columns</p>\n",
       "</div>"
      ],
      "text/plain": [
       "     Data   Cota  Chuva              Nivel\n",
       "0     101  122.0    0.0  Condições normais\n",
       "1     201  121.0    0.0  Condições normais\n",
       "2     301  121.0    0.0  Condições normais\n",
       "3     401  120.0    0.0  Condições normais\n",
       "4     501  121.0    0.4  Condições normais\n",
       "..    ...    ...    ...                ...\n",
       "553  2712  140.0    0.0  Condições normais\n",
       "554  2812  137.0    0.0  Condições normais\n",
       "555  2912  134.0    0.0  Condições normais\n",
       "556  3012  132.0    0.0  Condições normais\n",
       "557  3112  170.0    0.0  Condições normais\n",
       "\n",
       "[558 rows x 4 columns]"
      ]
     },
     "execution_count": 668,
     "metadata": {},
     "output_type": "execute_result"
    }
   ],
   "source": [
    "#🔎 Inspeção inicial do dataset para compreensão de variáveis e formato\n",
    "\n",
    "# 4.1) Exibir primeiras linhas do dataset\n",
    "df.head(1000)"
   ]
  },
  {
   "cell_type": "markdown",
   "id": "76e58c2f",
   "metadata": {},
   "source": [
    "🧾 Diagnóstico estrutural do DataFrame e tipagem dos dados com df.info()\n",
    "\n",
    "Utiliza-se o método df.info() para obter um resumo técnico da estrutura do dataset. Essa função retorna:\n",
    "\n",
    "- Número total de entradas (linhas);\n",
    "- Número e o nome das colunas;\n",
    "- Número de valores não nulos em cada coluna;\n",
    "- Tipo de dado de cada coluna (int64, float64, object, etc.);\n",
    "- Uso aproximado de memória.\n",
    "\n",
    "Essa análise é essencial para validar se:\n",
    "\n",
    "Todas as colunas foram corretamente interpretadas pelo pandas (ex: float ao invés de object), se existem colunas com valores ausentes (non-null < total) e se há necessidade de otimizar tipos de dados para uso eficiente de memória, principalmente em grandes volumes de dados. Essa inspeção ajuda a antecipar problemas e tomar decisões sobre pré-processamento antes da análise ou modelagem."
   ]
  },
  {
   "cell_type": "code",
   "execution_count": 669,
   "id": "3976a4b9",
   "metadata": {},
   "outputs": [
    {
     "name": "stdout",
     "output_type": "stream",
     "text": [
      "<class 'pandas.core.frame.DataFrame'>\n",
      "RangeIndex: 558 entries, 0 to 557\n",
      "Data columns (total 4 columns):\n",
      " #   Column  Non-Null Count  Dtype  \n",
      "---  ------  --------------  -----  \n",
      " 0   Data    558 non-null    int64  \n",
      " 1   Cota    550 non-null    float64\n",
      " 2   Chuva   549 non-null    float64\n",
      " 3   Nivel   558 non-null    object \n",
      "dtypes: float64(2), int64(1), object(1)\n",
      "memory usage: 17.6+ KB\n"
     ]
    }
   ],
   "source": [
    "#🧾 Diagnóstico estrutural do DataFrame e tipagem dos dados com df.info() e Complementos úteis (comentados):\n",
    "\n",
    "df.info()"
   ]
  },
  {
   "cell_type": "markdown",
   "id": "cc7f5ea9",
   "metadata": {},
   "source": [
    "🚨 Detecção de dados faltantes para avaliação da necessidade de imputação\n",
    "\n",
    "Esta etapa verifica a presença de valores nulos no dataset utilizando df.isnull().sum(). Embora a função df.info() também identifique dados faltantes, sua visualização pode ser menos intuitiva. A existência de valores ausentes pode prejudicar tanto a análise exploratória quanto o desempenho dos modelos preditivos. Por isso, é fundamental decidir uma estratégia adequada, como imputação, exclusão de linhas ou colunas, ou o uso de modelos que suportem dados nulos."
   ]
  },
  {
   "cell_type": "code",
   "execution_count": 670,
   "id": "4c20b841",
   "metadata": {},
   "outputs": [
    {
     "name": "stdout",
     "output_type": "stream",
     "text": [
      "Data     0\n",
      "Cota     8\n",
      "Chuva    9\n",
      "Nivel    0\n",
      "dtype: int64\n"
     ]
    }
   ],
   "source": [
    "#🚨 Detecção de dados faltantes para avaliar necessidade de imputação\n",
    "\n",
    "print(df.isnull().sum()) "
   ]
  },
  {
   "cell_type": "markdown",
   "id": "afa2b6eb",
   "metadata": {},
   "source": [
    "🔄 Preenchimento de valores faltantes por interpolação pelo valor mais próximo\n",
    "\n",
    "Nesta etapa, utilizamos o método de interpolação 'nearest' para preencher valores ausentes (NaN) no DataFrame. Esse método substitui os valores faltantes pelo valor válido mais próximo, seja ele anterior ou posterior, preservando a coerência dos dados temporais ou sequenciais. Após o preenchimento, é realizada uma verificação para confirmar se ainda existem valores nulos no dataset, garantindo que a interpolação foi aplicada com sucesso."
   ]
  },
  {
   "cell_type": "code",
   "execution_count": 671,
   "id": "4261373f",
   "metadata": {},
   "outputs": [
    {
     "name": "stdout",
     "output_type": "stream",
     "text": [
      "Data     0\n",
      "Cota     0\n",
      "Chuva    0\n",
      "Nivel    0\n",
      "dtype: int64\n"
     ]
    },
    {
     "name": "stderr",
     "output_type": "stream",
     "text": [
      "C:\\Users\\alice\\AppData\\Local\\Temp\\ipykernel_16260\\2667059381.py:3: FutureWarning: DataFrame.interpolate with object dtype is deprecated and will raise in a future version. Call obj.infer_objects(copy=False) before interpolating instead.\n",
      "  df = df.interpolate(method='nearest')\n"
     ]
    }
   ],
   "source": [
    "#🔄 Preenchimento de valores faltantes por interpolação pelo valor mais próximo\n",
    "\n",
    "df = df.interpolate(method='nearest')\n",
    "\n",
    "# Confirmando se ainda ha dados faltantes\n",
    "print(df.isnull().sum()) "
   ]
  },
  {
   "cell_type": "markdown",
   "id": "088b891d",
   "metadata": {},
   "source": [
    "🔁 Detecção de entradas redundantes no dataset\n",
    "\n",
    "Esta célula tem como objetivo identificar registros duplicados, ou seja, linhas que aparecem mais de uma vez com os mesmos valores em todas as colunas. Isso é feito por meio do método df.duplicated(), que retorna uma série booleana indicando True para as linhas duplicadas."
   ]
  },
  {
   "cell_type": "code",
   "execution_count": 672,
   "id": "ece03e50",
   "metadata": {},
   "outputs": [
    {
     "name": "stdout",
     "output_type": "stream",
     "text": [
      "Total de duplicados: 1\n"
     ]
    }
   ],
   "source": [
    "#🔁 Detecção de entradas redundantes no dataset\n",
    "duplicates= df.duplicated().sum()\n",
    "print(f\"Total de duplicados: {duplicates}\")"
   ]
  },
  {
   "cell_type": "markdown",
   "id": "12f62205",
   "metadata": {},
   "source": [
    "📊 Detecção e tratamento de valores extremos\n",
    "\n",
    "Esta célula tem o objetivo de identificar e tratar outliers (valores fora do padrão esperado) nas colunas 'Cota' e 'Chuva', tratar outliers é essencial para evitar distorções em modelos de regressão, classificadores e estatísticas descritivas, especialmente em modelos sensíveis a valores extremos, como KNN e regressão linear."
   ]
  },
  {
   "cell_type": "code",
   "execution_count": 673,
   "id": "9a182b10",
   "metadata": {},
   "outputs": [
    {
     "name": "stdout",
     "output_type": "stream",
     "text": [
      "\n",
      "🔍 Verificando extremos na coluna: Cota\n",
      "Limites esperados: 50 a 500\n",
      "Número de valores fora do padrão: 0\n",
      "\n",
      "🔍 Verificando extremos na coluna: Chuva\n",
      "Limites esperados: 0 a 300\n",
      "Número de valores fora do padrão: 0\n"
     ]
    }
   ],
   "source": [
    "# 📌 Verificação de valores extremos fora do padrão esperado\n",
    "\n",
    "# Limites lógicos (ajuste conforme o contexto da sua bacia)\n",
    "limites_explicitos = {\n",
    "    'Cota': (50, 500),     \n",
    "    'Chuva': (0, 300)      \n",
    "}\n",
    "\n",
    "for coluna in limites_explicitos:\n",
    "    limite_inferior, limite_superior = limites_explicitos[coluna]\n",
    "\n",
    "    extremos = df[(df[coluna] < limite_inferior) | (df[coluna] > limite_superior)]\n",
    "\n",
    "    print(f\"\\n🔍 Verificando extremos na coluna: {coluna}\")\n",
    "    print(f\"Limites esperados: {limite_inferior} a {limite_superior}\")\n",
    "    print(f\"Número de valores fora do padrão: {len(extremos)}\")\n",
    "\n",
    "    if not extremos.empty:\n",
    "        print(extremos[[coluna]].head())\n"
   ]
  },
  {
   "cell_type": "markdown",
   "id": "e663dec6",
   "metadata": {},
   "source": [
    "📊 Estatísticas descritivas para análise quantitativa preliminar\n",
    "\n",
    "Com df.describe(), obtemos medidas estatísticas como média, mediana, desvio padrão e quartis para variáveis numéricas. Isso fornece uma noção do comportamento e da dispersão dos dados, ajudando a identificar outliers e padrões."
   ]
  },
  {
   "cell_type": "code",
   "execution_count": 674,
   "id": "4b16f418",
   "metadata": {},
   "outputs": [
    {
     "data": {
      "application/vnd.microsoft.datawrangler.viewer.v0+json": {
       "columns": [
        {
         "name": "index",
         "rawType": "object",
         "type": "string"
        },
        {
         "name": "Data",
         "rawType": "float64",
         "type": "float"
        },
        {
         "name": "Cota",
         "rawType": "float64",
         "type": "float"
        },
        {
         "name": "Chuva",
         "rawType": "float64",
         "type": "float"
        }
       ],
       "ref": "7e240201-c6fe-40ce-828b-eaf11ecd8ca0",
       "rows": [
        [
         "count",
         "558.0",
         "558.0",
         "558.0"
        ],
        [
         "mean",
         "1607.5",
         "146.13799283154123",
         "4.169713261648746"
        ],
        [
         "std",
         "895.2358359532227",
         "44.26500038991076",
         "10.969263255245354"
        ],
        [
         "min",
         "101.0",
         "96.0",
         "0.0"
        ],
        [
         "25%",
         "810.25",
         "115.0",
         "0.0"
        ],
        [
         "50%",
         "1608.0",
         "132.5",
         "0.0"
        ],
        [
         "75%",
         "2404.75",
         "165.75",
         "1.875"
        ],
        [
         "max",
         "3112.0",
         "386.0",
         "84.5"
        ]
       ],
       "shape": {
        "columns": 3,
        "rows": 8
       }
      },
      "text/html": [
       "<div>\n",
       "<style scoped>\n",
       "    .dataframe tbody tr th:only-of-type {\n",
       "        vertical-align: middle;\n",
       "    }\n",
       "\n",
       "    .dataframe tbody tr th {\n",
       "        vertical-align: top;\n",
       "    }\n",
       "\n",
       "    .dataframe thead th {\n",
       "        text-align: right;\n",
       "    }\n",
       "</style>\n",
       "<table border=\"1\" class=\"dataframe\">\n",
       "  <thead>\n",
       "    <tr style=\"text-align: right;\">\n",
       "      <th></th>\n",
       "      <th>Data</th>\n",
       "      <th>Cota</th>\n",
       "      <th>Chuva</th>\n",
       "    </tr>\n",
       "  </thead>\n",
       "  <tbody>\n",
       "    <tr>\n",
       "      <th>count</th>\n",
       "      <td>558.000000</td>\n",
       "      <td>558.000000</td>\n",
       "      <td>558.000000</td>\n",
       "    </tr>\n",
       "    <tr>\n",
       "      <th>mean</th>\n",
       "      <td>1607.500000</td>\n",
       "      <td>146.137993</td>\n",
       "      <td>4.169713</td>\n",
       "    </tr>\n",
       "    <tr>\n",
       "      <th>std</th>\n",
       "      <td>895.235836</td>\n",
       "      <td>44.265000</td>\n",
       "      <td>10.969263</td>\n",
       "    </tr>\n",
       "    <tr>\n",
       "      <th>min</th>\n",
       "      <td>101.000000</td>\n",
       "      <td>96.000000</td>\n",
       "      <td>0.000000</td>\n",
       "    </tr>\n",
       "    <tr>\n",
       "      <th>25%</th>\n",
       "      <td>810.250000</td>\n",
       "      <td>115.000000</td>\n",
       "      <td>0.000000</td>\n",
       "    </tr>\n",
       "    <tr>\n",
       "      <th>50%</th>\n",
       "      <td>1608.000000</td>\n",
       "      <td>132.500000</td>\n",
       "      <td>0.000000</td>\n",
       "    </tr>\n",
       "    <tr>\n",
       "      <th>75%</th>\n",
       "      <td>2404.750000</td>\n",
       "      <td>165.750000</td>\n",
       "      <td>1.875000</td>\n",
       "    </tr>\n",
       "    <tr>\n",
       "      <th>max</th>\n",
       "      <td>3112.000000</td>\n",
       "      <td>386.000000</td>\n",
       "      <td>84.500000</td>\n",
       "    </tr>\n",
       "  </tbody>\n",
       "</table>\n",
       "</div>"
      ],
      "text/plain": [
       "              Data        Cota       Chuva\n",
       "count   558.000000  558.000000  558.000000\n",
       "mean   1607.500000  146.137993    4.169713\n",
       "std     895.235836   44.265000   10.969263\n",
       "min     101.000000   96.000000    0.000000\n",
       "25%     810.250000  115.000000    0.000000\n",
       "50%    1608.000000  132.500000    0.000000\n",
       "75%    2404.750000  165.750000    1.875000\n",
       "max    3112.000000  386.000000   84.500000"
      ]
     },
     "execution_count": 674,
     "metadata": {},
     "output_type": "execute_result"
    }
   ],
   "source": [
    "#📊 Estatísticas descritivas para análise quantitativa preliminar\n",
    "\n",
    "df.describe()"
   ]
  },
  {
   "cell_type": "markdown",
   "id": "e64f6da1",
   "metadata": {},
   "source": [
    "🎯 Quantificação das classes da variável alvo\n",
    "\n",
    "A função df['Nivel'].value_counts() permite entender quantas amostras existem para cada entrada no dataset."
   ]
  },
  {
   "cell_type": "code",
   "execution_count": 675,
   "id": "c8d36259",
   "metadata": {},
   "outputs": [
    {
     "data": {
      "application/vnd.microsoft.datawrangler.viewer.v0+json": {
       "columns": [
        {
         "name": "Nivel",
         "rawType": "object",
         "type": "string"
        },
        {
         "name": "count",
         "rawType": "int64",
         "type": "integer"
        }
       ],
       "ref": "dae130bf-69a1-4302-a9fb-446bcd3c86c0",
       "rows": [
        [
         "Condições normais",
         "511"
        ],
        [
         "Situação de atenção",
         "27"
        ],
        [
         "Alerta elevado",
         "17"
        ],
        [
         "Inundação provável",
         "3"
        ]
       ],
       "shape": {
        "columns": 1,
        "rows": 4
       }
      },
      "text/plain": [
       "Nivel\n",
       "Condições normais      511\n",
       "Situação de atenção     27\n",
       "Alerta elevado          17\n",
       "Inundação provável       3\n",
       "Name: count, dtype: int64"
      ]
     },
     "execution_count": 675,
     "metadata": {},
     "output_type": "execute_result"
    }
   ],
   "source": [
    "#🎯 Quantificação das classes da variável alvo\n",
    "\n",
    "df['Nivel'].value_counts()"
   ]
  },
  {
   "cell_type": "markdown",
   "id": "4392ac3f",
   "metadata": {},
   "source": [
    "🎯 Separando os dados em variáveis preditoras e variável target \n",
    "\n",
    "Nesta etapa, fazemos a divisão dos dados em:\n",
    "\n",
    "X: variáveis preditoras (features), que contêm as informações sobre Chuvas e Cotas. Essas serão as entradas para os modelos.\n",
    "y: variável target (rótulo), que indica o nível de enchente que queremos prever.\n",
    "\n",
    "Essa separação é fundamental para o treinamento dos modelos de machine learning, pois permite que eles aprendam a relação entre as condições do ambiente (X) e o nível de enchente (y). Assim, podemos avaliar a capacidade preditiva dos algoritmos para identificar o risco de inundação com base nas condições observadas."
   ]
  },
  {
   "cell_type": "code",
   "execution_count": 676,
   "id": "b3bc5737",
   "metadata": {},
   "outputs": [],
   "source": [
    "#🎯 Separando os dados em variáveis preditoras e variável target \n",
    "\n",
    "X = df.drop(columns=['Nivel'])\n",
    "y = df['Nivel']"
   ]
  },
  {
   "cell_type": "markdown",
   "id": "b33dca45",
   "metadata": {},
   "source": [
    "🎯 Conversão da variável alvo categórica para formato numérico\n",
    "\n",
    "Para que os algoritmos de machine learning possam processar a variável alvo 'Nivel', convertemos as categorias textuais para valores numéricos usando o LabelEncoder. Isso facilita o treinamento dos modelos."
   ]
  },
  {
   "cell_type": "code",
   "execution_count": 677,
   "id": "0823fa8d",
   "metadata": {},
   "outputs": [],
   "source": [
    "#🎯 Conversão da variável alvo categórica para formato numérico\n",
    "\n",
    "le = LabelEncoder()\n",
    "y_enc = le.fit_transform(y)\n",
    "\n",
    "df['Nivel'] = y_enc"
   ]
  },
  {
   "cell_type": "markdown",
   "id": "995d8eb0",
   "metadata": {},
   "source": [
    "✂️ Separação dos dados em conjuntos de treino e teste com estratificação\n",
    "\n",
    "Aqui os dados são divididos em conjuntos de treinamento e teste com base em uma proporção definida (80/20). O parâmetro stratify=y garante que a distribuição das classes da variável alvo seja preservada em ambas as amostras, o que é fundamental para garantir avaliações mais realistas e imparciais dos modelos."
   ]
  },
  {
   "cell_type": "code",
   "execution_count": 678,
   "id": "61f308f1",
   "metadata": {},
   "outputs": [],
   "source": [
    "#✂️ Separação dos dados em conjuntos de treino e teste com estratificação\n",
    "\n",
    "y = df['Nivel'] \n",
    "\n",
    "X_train, X_test, y_train, y_test = train_test_split(\n",
    "    X, y, test_size=0.2, random_state=42, stratify=y\n",
    ")"
   ]
  },
  {
   "cell_type": "markdown",
   "id": "1cda52a5",
   "metadata": {},
   "source": [
    "📏 Escalonamento das variáveis numéricas para melhorar desempenho dos modelos\n",
    "\n",
    "A normalização dos dados, feita com MinMaxScaler, ajusta as variáveis para uma mesma escala (geralmente de 0 a 1). Isso é crucial para algoritmos que são sensíveis à magnitude dos dados, como KNN e SVM, garantindo que nenhuma variável domine a modelagem apenas por ter valores maiores."
   ]
  },
  {
   "cell_type": "code",
   "execution_count": 679,
   "id": "2d6b566d",
   "metadata": {},
   "outputs": [],
   "source": [
    "#📏 Escalonamento das variáveis numéricas para melhorar desempenho dos modelos\n",
    "\n",
    "scaler = MinMaxScaler()\n",
    "X_train = scaler.fit_transform(X_train)\n",
    "X_test = scaler.transform(X_test)\n",
    "\n",
    "# Garante que y é 1D\n",
    "y_train = np.ravel(y_train)\n",
    "y_test = np.ravel(y_test)\n",
    "\n",
    "# Garante que os valores são inteiros\n",
    "y_train = y_train.astype(int)\n",
    "y_test = y_test.astype(int)"
   ]
  },
  {
   "cell_type": "markdown",
   "id": "efd31698",
   "metadata": {},
   "source": [
    "🔄 Configurar validação cruzada estratificada com StratifiedKFold \n",
    "\n",
    "Aqui, utilizamos o StratifiedKFold para criar 5 divisões (folds) dos dados que preservam a proporção original das classes em cada parte. Configuramos o embaralhamento dos dados (shuffle=True) para garantir aleatoriedade na divisão e definimos uma semente fixa (random_state=42) para resultados reproduzíveis, essa configuração assegura que o modelo seja avaliado de forma equilibrada e consistente em diferentes subconjuntos do conjunto de dados."
   ]
  },
  {
   "cell_type": "code",
   "execution_count": 680,
   "id": "437bfc71",
   "metadata": {},
   "outputs": [],
   "source": [
    "#🔄 Configurar validação cruzada estratificada com StratifiedKFold \n",
    "\n",
    "cv = StratifiedKFold(n_splits=5, shuffle=True, random_state=42)"
   ]
  },
  {
   "cell_type": "markdown",
   "id": "8388b376",
   "metadata": {},
   "source": [
    "⚙️ Instanciação de modelos de aprendizado supervisionado para classificação\n",
    "\n",
    "Nesta célula, criamos uma lista de 20 modelos de machine learning para classificação, com diferentes algoritmos e hiperparâmetros aleatórios. Os modelos incluem Regressão Logística, Árvore de Decisão, Random Forest, Gradient Boosting, SVM, KNN e Naive Bayes.\n",
    "\n",
    "Para garantir diversidade, cada modelo recebe um nome único baseado em seus hiperparâmetros, evitando duplicatas. Essa variedade permite testar diferentes configurações e comparar seu desempenho na tarefa de prever se haverá ou não inundações."
   ]
  },
  {
   "cell_type": "code",
   "execution_count": 681,
   "id": "349bf5de",
   "metadata": {},
   "outputs": [],
   "source": [
    "#⚙️ Instanciação de modelos de aprendizado supervisionado para classificação\n",
    "\n",
    "# Funções auxiliares para gerar variações aleatórias\n",
    "random_state = lambda: random.randint(1, 100)\n",
    "n_estimators = lambda: random.choice([50, 100, 150, 200])\n",
    "k_neighbors = lambda: random.choice([3, 5, 7, 10, 15])\n",
    "max_depth = lambda: random.choice([None, 3, 5, 10])\n",
    "kernels = ['linear', 'poly', 'rbf', 'sigmoid']\n",
    "hidden_layer_sizes = lambda: random.choice([(50,), (100,), (50, 50), (100, 50)])\n",
    "\n",
    "modelos = []\n",
    "nomes_gerados = set()\n",
    "\n",
    "while len(modelos) < 20:\n",
    "    modelo_tipo = random.choice([\n",
    "        'lr', 'dt', 'rf', 'gb', 'svm', 'knn', 'nb',\n",
    "        'et', 'ada', 'lda', 'qda', 'mlp', 'bag', 'cal'\n",
    "    ])\n",
    "    \n",
    "    if modelo_tipo == 'lr':\n",
    "        nome = f'LogReg {random_state()}'\n",
    "        if nome not in nomes_gerados:\n",
    "            modelo = LogisticRegression(max_iter=1000, random_state=random_state())\n",
    "            modelos.append((nome, modelo))\n",
    "            nomes_gerados.add(nome)\n",
    "    \n",
    "    elif modelo_tipo == 'dt':\n",
    "        depth = max_depth()\n",
    "        nome = f'DecTree d{depth}'\n",
    "        if nome not in nomes_gerados:\n",
    "            modelo = DecisionTreeClassifier(max_depth=depth, random_state=random_state())\n",
    "            modelos.append((nome, modelo))\n",
    "            nomes_gerados.add(nome)\n",
    "    \n",
    "    elif modelo_tipo == 'rf':\n",
    "        n = n_estimators()\n",
    "        nome = f'RandForest {n}'\n",
    "        if nome not in nomes_gerados:\n",
    "            modelo = RandomForestClassifier(n_estimators=n, random_state=random_state())\n",
    "            modelos.append((nome, modelo))\n",
    "            nomes_gerados.add(nome)\n",
    "    \n",
    "    elif modelo_tipo == 'gb':\n",
    "        n = n_estimators()\n",
    "        nome = f'GradBoost {n}'\n",
    "        if nome not in nomes_gerados:\n",
    "            modelo = GradientBoostingClassifier(n_estimators=n, random_state=random_state())\n",
    "            modelos.append((nome, modelo))\n",
    "            nomes_gerados.add(nome)\n",
    "\n",
    "    elif modelo_tipo == 'et':\n",
    "        n = n_estimators()\n",
    "        nome = f'ExtraTrees {n}'\n",
    "        if nome not in nomes_gerados:\n",
    "            modelo = ExtraTreesClassifier(n_estimators=n, random_state=random_state())\n",
    "            modelos.append((nome, modelo))\n",
    "            nomes_gerados.add(nome)\n",
    "\n",
    "    elif modelo_tipo == 'ada':\n",
    "        n = n_estimators()\n",
    "        nome = f'AdaBoost {n}'\n",
    "        if nome not in nomes_gerados:\n",
    "            modelo = AdaBoostClassifier(n_estimators=n, random_state=random_state())\n",
    "            modelos.append((nome, modelo))\n",
    "            nomes_gerados.add(nome)\n",
    "    \n",
    "    elif modelo_tipo == 'svm':\n",
    "        kernel = random.choice(kernels)\n",
    "        nome = f'SVM {kernel}'\n",
    "        if nome not in nomes_gerados:\n",
    "            modelo = SVC(kernel=kernel, probability=True, random_state=random_state())\n",
    "            modelos.append((nome, modelo))\n",
    "            nomes_gerados.add(nome)\n",
    "\n",
    "    elif modelo_tipo == 'knn':\n",
    "        k = k_neighbors()\n",
    "        nome = f'KNN {k}'\n",
    "        if nome not in nomes_gerados:\n",
    "            modelo = KNeighborsClassifier(n_neighbors=k)\n",
    "            modelos.append((nome, modelo))\n",
    "            nomes_gerados.add(nome)\n",
    "\n",
    "    elif modelo_tipo == 'nb':\n",
    "        nome = f'Naive Bayes {random_state()}'\n",
    "        if nome not in nomes_gerados:\n",
    "            modelo = GaussianNB()\n",
    "            modelos.append((nome, modelo))\n",
    "            nomes_gerados.add(nome)\n",
    "\n",
    "    elif modelo_tipo == 'lda':\n",
    "        nome = 'LDA'\n",
    "        if nome not in nomes_gerados:\n",
    "            modelo = LinearDiscriminantAnalysis()\n",
    "            modelos.append((nome, modelo))\n",
    "            nomes_gerados.add(nome)\n",
    "\n",
    "    elif modelo_tipo == 'qda':\n",
    "        nome = 'QDA'\n",
    "        if nome not in nomes_gerados:\n",
    "            modelo = QuadraticDiscriminantAnalysis()\n",
    "            modelos.append((nome, modelo))\n",
    "            nomes_gerados.add(nome)\n",
    "\n",
    "    elif modelo_tipo == 'mlp':\n",
    "        hls = hidden_layer_sizes()\n",
    "        nome = f'MLP {hls}'\n",
    "        if nome not in nomes_gerados:\n",
    "            modelo = MLPClassifier(hidden_layer_sizes=hls, max_iter=1000, random_state=random_state())\n",
    "            modelos.append((nome, modelo))\n",
    "            nomes_gerados.add(nome)\n",
    "\n",
    "    elif modelo_tipo == 'bag':\n",
    "        base_depth = max_depth()\n",
    "        nome = f'Bagging DT d{base_depth}'\n",
    "        if nome not in nomes_gerados:\n",
    "            base_est = DecisionTreeClassifier(max_depth=base_depth, random_state=random_state())\n",
    "            modelo = BaggingClassifier(estimator=base_est, n_estimators=n_estimators(), random_state=random_state())\n",
    "            modelos.append((nome, modelo))\n",
    "            nomes_gerados.add(nome)\n",
    "\n",
    "    elif modelo_tipo == 'cal':\n",
    "        # CalibratedClassifierCV precisa de base, usar SVM linear\n",
    "        nome = 'Calibrated SVM linear'\n",
    "        if nome not in nomes_gerados:\n",
    "            base_svm = SVC(kernel='linear', probability=False, random_state=random_state())\n",
    "            modelo = CalibratedClassifierCV(base_svm)\n",
    "            modelos.append((nome, modelo))\n",
    "            nomes_gerados.add(nome)"
   ]
  },
  {
   "cell_type": "markdown",
   "id": "3acb9a11",
   "metadata": {},
   "source": [
    "📊 Treinamento dos modelos, validação cruzada e avaliação preditiva\n",
    "\n",
    "Nesta célula, executa-se o ciclo completo de aprendizado de máquina para cada modelo instanciado: \n",
    "\n",
    "- ⏱️ *Treinamento* com os dados de treino (`X_train`, `y_train`);\n",
    "- 🔁 *Predição* e avaliação no conjunto de teste (`X_test`, `y_test`);\n",
    "- 📈 *Coleta de métricas preditivas* como Acurácia, Precisão, Recall, F1-Score e ROC AUC;\n",
    "- ⏳ *Registro do tempo de treinamento* de cada modelo;\n",
    "- 📦 Armazenamento dos modelos treinados e de suas predições para uso posterior.\n",
    "\n",
    "Essa abordagem permite comparar o desempenho e a eficiência de múltiplos algoritmos sob as mesmas condições experimentais."
   ]
  },
  {
   "cell_type": "code",
   "execution_count": 682,
   "id": "414c18ae",
   "metadata": {},
   "outputs": [
    {
     "name": "stdout",
     "output_type": "stream",
     "text": [
      "Treinando: QDA\n",
      "Treinando: ExtraTrees 100\n"
     ]
    },
    {
     "name": "stderr",
     "output_type": "stream",
     "text": [
      "c:\\Users\\alice\\AppData\\Local\\Programs\\Python\\Python313\\Lib\\site-packages\\sklearn\\discriminant_analysis.py:1024: LinAlgWarning: The covariance matrix of class 2 is not full rank. Increasing the value of parameter `reg_param` might help reducing the collinearity.\n",
      "  warnings.warn(\n"
     ]
    },
    {
     "name": "stdout",
     "output_type": "stream",
     "text": [
      "Treinando: GradBoost 150\n",
      "Treinando: SVM rbf\n",
      "Treinando: MLP (100,)\n",
      "Treinando: DecTree d10\n",
      "Treinando: KNN 7\n",
      "Treinando: GradBoost 50\n",
      "Treinando: SVM sigmoid\n",
      "Treinando: Bagging DT d10\n",
      "Treinando: DecTree d5\n",
      "Treinando: MLP (50,)\n",
      "Treinando: LogReg 75\n",
      "Treinando: DecTree dNone\n",
      "Treinando: Naive Bayes 6\n",
      "Treinando: AdaBoost 50\n",
      "Treinando: RandForest 150\n",
      "Treinando: KNN 3\n",
      "Treinando: GradBoost 200\n",
      "Treinando: KNN 5\n"
     ]
    }
   ],
   "source": [
    "#📊 Treinamento dos modelos, validação cruzada e avaliação preditiva\n",
    "\n",
    "\n",
    "# Avaliação dos modelos\n",
    "resultados = []\n",
    "tempos = []\n",
    "parametros = []\n",
    "modelos_treinados = {}\n",
    "y_preds = {}\n",
    "resultados = []\n",
    "\n",
    "for nome, modelo in modelos:\n",
    "    print(f\"Treinando: {nome}\")\n",
    "    inicio = time.time()\n",
    "\n",
    "    modelo.fit(X_train, y_train)\n",
    "    y_pred = modelo.predict(X_test)\n",
    "\n",
    "    fim = time.time()\n",
    "    duracao = fim - inicio\n",
    "\n",
    "    try:\n",
    "        y_proba = modelo.predict_proba(X_test)\n",
    "        if len(set(y)) == 2:\n",
    "            auc = roc_auc_score(y_test, y_proba[:, 1])\n",
    "        else:\n",
    "            auc = roc_auc_score(y_test, y_proba, multi_class='ovr')\n",
    "    except:\n",
    "        auc = None\n",
    "\n",
    "    resultados.append({\n",
    "        'Modelo': nome,\n",
    "        'Accuracy': accuracy_score(y_test, y_pred),\n",
    "        'Precision': precision_score(y_test, y_pred, average='weighted', zero_division=0),\n",
    "        'Recall': recall_score(y_test, y_pred, average='weighted'),\n",
    "        'F1 Score': f1_score(y_test, y_pred, average='weighted'),\n",
    "        'ROC AUC': auc\n",
    "    })\n",
    "\n",
    "    modelos_treinados[nome] = modelo\n",
    "    y_preds[nome] = y_pred\n",
    "    tempos.append({'Modelo': nome, 'Tempo Treinamento (s)': round(duracao, 3)})"
   ]
  },
  {
   "cell_type": "markdown",
   "id": "205581ad",
   "metadata": {},
   "source": [
    "📈 Organização e exibição dos resultados de desempenho dos modelos\n",
    "\n",
    "Esta célula organiza os resultados obtidos durante a avaliação dos modelos em um DataFrame, ordenando-os pela métrica F1 Score para destacar os modelos com melhor desempenho geral. Além disso, registra o tempo de treinamento de cada modelo em um segundo DataFrame."
   ]
  },
  {
   "cell_type": "code",
   "execution_count": 683,
   "id": "3fb9a5bf",
   "metadata": {
    "lines_to_next_cell": 1
   },
   "outputs": [],
   "source": [
    "#📈 Organização e exibição dos resultados de desempenho dos modelos\n",
    "\n",
    "atual_resultados = pd.DataFrame(resultados).sort_values(by='F1 Score', ascending=False)\n",
    "df_resultados = atual_resultados\n",
    "df_tempos = pd.DataFrame(tempos)"
   ]
  },
  {
   "cell_type": "markdown",
   "id": "11352501",
   "metadata": {},
   "source": [
    "#📋 Comparação visual entre modelos com base em métricas de classificação\n",
    "\n",
    "Esta célula define e executa a função `exibir_metricas`, responsável por gerar visualizações comparativas entre os modelos de machine learning avaliados. As visualizações incluem:\n",
    "\n",
    "- *Gráfico de barras do F1 Score*: mostra quais modelos obtiveram melhor desempenho equilibrado entre precisão e recall.\n",
    "- *Mapa de calor das métricas*: apresenta uma visão geral das principais métricas (Accuracy, Precision, Recall, F1 Score e ROC AUC) para todos os modelos.\n",
    "- *Gráfico de tempo de treinamento*: compara a eficiência temporal de cada modelo, indicando o tempo necessário para treinar cada um deles.\n",
    "\n",
    "Essas visualizações ajudam a identificar os modelos mais eficazes e eficientes  para o conjunto de dados hidrológicos analisado."
   ]
  },
  {
   "cell_type": "code",
   "execution_count": 684,
   "id": "8d45a1d1",
   "metadata": {},
   "outputs": [
    {
     "data": {
      "image/png": "[encoded data removed]",
      "text/plain": [
       "<Figure size 1200x800 with 1 Axes>"
      ]
     },
     "metadata": {},
     "output_type": "display_data"
    },
    {
     "data": {
      "image/png": "[encoded data removed]",
      "text/plain": [
       "<Figure size 1400x800 with 2 Axes>"
      ]
     },
     "metadata": {},
     "output_type": "display_data"
    },
    {
     "data": {
      "image/png": "[encoded data removed]",
      "text/plain": [
       "<Figure size 1200x800 with 1 Axes>"
      ]
     },
     "metadata": {},
     "output_type": "display_data"
    }
   ],
   "source": [
    "#📋 Comparação visual entre modelos com base em métricas de classificação\n",
    "\n",
    "def exibir_metricas(df_resultados, df_tempos):\n",
    "    # Barplot - F1 Score\n",
    "    plt.figure(figsize=(12, max(6, len(df_resultados) * 0.4)))\n",
    "    sns.barplot(data=df_resultados, x='F1 Score', y='Modelo', hue='Modelo', palette='viridis', legend=False)\n",
    "    plt.title('F1 Score por Modelo (Todos)')\n",
    "    plt.tight_layout()\n",
    "    plt.show()\n",
    "\n",
    "    # Heatmap - Todas as métricas\n",
    "    plt.figure(figsize=(14, max(6, len(df_resultados) * 0.4)))\n",
    "    heatmap_data = df_resultados.drop(columns='Modelo').set_index(df_resultados['Modelo']).astype(float)\n",
    "    sns.heatmap(heatmap_data, annot=True, cmap='YlGnBu', fmt='.2f')\n",
    "    plt.title('📊 Heatmap Desempenho dos Modelos (Todos)')\n",
    "    plt.rcParams['font.family'] = 'Segoe UI Emoji'\n",
    "    plt.tight_layout()\n",
    "    plt.show()\n",
    "\n",
    "    # Tempo de treinamento\n",
    "    plt.figure(figsize=(12, max(6, len(df_tempos) * 0.4)))\n",
    "    sns.barplot(data=df_tempos, x='Tempo Treinamento (s)', y='Modelo', hue='Modelo', palette='magma', legend=False)\n",
    "    plt.title('⏱️ Tempo de Treinamento por Modelo (Todos)')\n",
    "    plt.rcParams['font.family'] = 'Segoe UI Emoji'\n",
    "    plt.tight_layout()\n",
    "    plt.show()\n",
    "\n",
    "exibir_metricas(df_resultados, df_tempos)"
   ]
  },
  {
   "cell_type": "markdown",
   "id": "2a56993b",
   "metadata": {},
   "source": [
    "🏆 Verificação e atualização dos 5 melhores modelos\n",
    "\n",
    "Esta célula mantém um histórico dos 5 modelos com melhor desempenho com base na métrica F1 Score. Se já existir um arquivo melhores_modelos.csv, ele é carregado e combinado com os resultados atuais. A lista combinada é então ordenada, duplicatas são removidas e os 5 melhores modelos únicos são selecionados. Por fim, a nova lista é salva no mesmo arquivo CSV e os dados de tempo de treinamento são cruzados para esses modelos selecionados, preparando os resultados para visualização futura."
   ]
  },
  {
   "cell_type": "code",
   "execution_count": 685,
   "id": "04bf9c58",
   "metadata": {},
   "outputs": [
    {
     "name": "stdout",
     "output_type": "stream",
     "text": [
      "Modelo, scaler e label encoder salvos em: modelos_salvos/BaggingDTd10.pkl\n",
      "Modelo, scaler e label encoder salvos em: modelos_salvos/GradBoost200.pkl\n"
     ]
    }
   ],
   "source": [
    "# 🏆 Verificação e atualização dos 5 melhores modelos\n",
    "\n",
    "caminho_csv = 'melhores_modelos.csv'\n",
    "if os.path.exists(caminho_csv):\n",
    "    melhores_anteriores = pd.read_csv(caminho_csv)\n",
    "    combinados = pd.concat([melhores_anteriores, atual_resultados], ignore_index=True)\n",
    "    combinados = combinados.sort_values(by='F1 Score', ascending=False).drop_duplicates('Modelo').head(5)\n",
    "else:\n",
    "    combinados = atual_resultados.head(5)\n",
    "\n",
    "# Salvar top 5 atualizados\n",
    "combinados.to_csv(caminho_csv, index=False)\n",
    "\n",
    "# 3. Cria a pasta para salvar os modelos (se não existir)\n",
    "os.makedirs(\"modelos_salvos\", exist_ok=True)\n",
    "\n",
    "# 4. Salva somente os modelos que estão no top 5\n",
    "modelos_treinados = {}\n",
    "y_preds = {}\n",
    "tempos = []\n",
    "\n",
    "# Cria um set com os nomes dos top 5 para facilitar a verificação\n",
    "top5_modelos = set(combinados['Modelo'])\n",
    "\n",
    "for nome, modelo in modelos:\n",
    "    if nome in top5_modelos:\n",
    "        nome_arquivo = f\"modelos_salvos/{nome.replace(' ', '')}.pkl\"\n",
    "        \n",
    "        # Salva modelo, scaler e label encoder juntos\n",
    "        joblib.dump({\n",
    "            'modelo': modelo,\n",
    "            'scaler': scaler,\n",
    "            'label_encoder': le  # <- Aqui está o LabelEncoder\n",
    "        }, nome_arquivo)\n",
    "        \n",
    "        print(f\"Modelo, scaler e label encoder salvos em: {nome_arquivo}\")\n",
    "\n",
    "        modelos_treinados[nome] = modelo\n",
    "        y_preds[nome] = y_pred  # Supondo que y_pred esteja atualizado para esse modelo\n",
    "        tempos.append({'Modelo': nome, 'Tempo Treinamento (s)': round(duracao, 3)})\n",
    "\n",
    "# Gerar top 5 resultados e tempos atualizados\n",
    "top5_resultados = combinados \n",
    "top5_tempos = df_tempos.merge(top5_resultados[['Modelo']], on='Modelo')\n",
    "top5_tempos['Modelo'] = pd.Categorical(top5_tempos['Modelo'], categories=top5_resultados['Modelo'], ordered=True)"
   ]
  },
  {
   "cell_type": "markdown",
   "id": "58ff6eb7",
   "metadata": {},
   "source": [
    "📊 Visualização dos 5 melhores modelos\n",
    "\n",
    "Esta célula gera gráficos para comparar visualmente o desempenho dos 5 melhores modelos selecionados. São exibidos:\n",
    "\n",
    "- Um gráfico de barras do F1 Score para os top 5 modelos, facilitando a comparação direta de desempenho.\n",
    "- Um heatmap com todas as métricas de avaliação para esses modelos, mostrando detalhes de performance de forma clara.\n",
    "- Um gráfico de barras com o tempo de treinamento de cada modelo, para analisar o custo computacional associado a cada um."
   ]
  },
  {
   "cell_type": "code",
   "execution_count": 686,
   "id": "14f6d0e8",
   "metadata": {},
   "outputs": [
    {
     "data": {
      "image/png": "[encoded data removed]",
      "text/plain": [
       "<Figure size 1200x600 with 1 Axes>"
      ]
     },
     "metadata": {},
     "output_type": "display_data"
    },
    {
     "data": {
      "image/png": "[encoded data removed]",
      "text/plain": [
       "<Figure size 1200x600 with 2 Axes>"
      ]
     },
     "metadata": {},
     "output_type": "display_data"
    },
    {
     "data": {
      "image/png": "[encoded data removed]",
      "text/plain": [
       "<Figure size 1200x600 with 1 Axes>"
      ]
     },
     "metadata": {},
     "output_type": "display_data"
    }
   ],
   "source": [
    "#📊 Visualização dos 5 melhores modelos\n",
    "\n",
    "# F1 Score dos top 5 modelos\n",
    "plt.figure(figsize=(12, 6))\n",
    "sns.barplot(data=top5_resultados, x='F1 Score', y='Modelo', hue='Modelo', palette='viridis', legend=False)\n",
    "plt.title('F1 Score - Top 5 Modelos')\n",
    "plt.tight_layout()\n",
    "plt.show()\n",
    "\n",
    "# Heatmap dos top 5 modelos\n",
    "plt.figure(figsize=(12, 6))\n",
    "sns.heatmap(top5_resultados.drop(columns='Modelo').set_index(top5_resultados['Modelo']).astype(float),annot=True,cmap='YlGnBu',fmt='.2f')\n",
    "plt.title('📊 Heatmap - Top 5 Modelos')\n",
    "plt.tight_layout()\n",
    "plt.show()\n",
    "\n",
    "# Gráfico de tempo dos top 5 modelos\n",
    "plt.figure(figsize=(12, 6))\n",
    "sns.barplot(data=top5_tempos, x='Tempo Treinamento (s)', y='Modelo', hue='Modelo', palette='magma', legend=False)\n",
    "plt.title('⏱️ Tempo de Treinamento - Top 5 Modelos')\n",
    "plt.tight_layout()\n",
    "plt.show()"
   ]
  },
  {
   "cell_type": "markdown",
   "id": "852961b1",
   "metadata": {},
   "source": [
    "📑 Apresentação detalhada de métricas preditivas para cada algoritmo\n",
    "\n",
    "Esta célula imprime, para cada modelo testado:\n",
    "\n",
    "- A acurácia média da validação cruzada, que fornece uma estimativa mais robusta do desempenho geral, suavizando variações entre divisões dos dados;\n",
    "- O relatório de classificação (classification_report), que mostra métricas específicas por classe (precisão, recall, f1-score), possibilitando uma avaliação mais granular da performance;\n",
    "- A matriz de confusão, que evidencia os acertos e erros de classificação por categoria, sendo crucial para entender onde os modelos estão errando.\n",
    "\n",
    "Essa análise detalhada é essencial para identificar não apenas qual modelo tem melhor desempenho geral, mas também quais estão mais equilibrados entre as classes e quais podem estar cometendo erros sistemáticos."
   ]
  },
  {
   "cell_type": "code",
   "execution_count": 687,
   "id": "64a95255",
   "metadata": {},
   "outputs": [
    {
     "name": "stdout",
     "output_type": "stream",
     "text": [
      "\n",
      "🔍 Avaliando modelo: ExtraTrees 150\n",
      "❌ Modelo 'ExtraTrees 150' não foi treinado nesta execução e também não foi encontrado em disco.\n",
      "\n",
      "🔍 Avaliando modelo: RandForest 50\n",
      "❌ Modelo 'RandForest 50' não foi treinado nesta execução e também não foi encontrado em disco.\n",
      "\n",
      "🔍 Avaliando modelo: MLP (50, 50)\n",
      "❌ Modelo 'MLP (50, 50)' não foi treinado nesta execução e também não foi encontrado em disco.\n",
      "\n",
      "🔍 Avaliando modelo: GradBoost 200\n",
      "✅ Acurácia: 0.9464\n",
      "✅ Precisão: 0.9449\n",
      "✅ Revocação: 0.9464\n",
      "✅ F1-Score: 0.9420\n",
      "\n",
      "📄 Relatório de Classificação:\n",
      "              precision    recall  f1-score   support\n",
      "\n",
      "           0       0.50      1.00      0.67         3\n",
      "           1       0.98      0.98      0.98       103\n",
      "           2       0.00      0.00      0.00         1\n",
      "           3       0.67      0.40      0.50         5\n",
      "\n",
      "    accuracy                           0.95       112\n",
      "   macro avg       0.54      0.60      0.54       112\n",
      "weighted avg       0.94      0.95      0.94       112\n",
      "\n",
      "\n",
      "🔍 Avaliando modelo: Bagging DT d10\n",
      "✅ Acurácia: 0.9464\n",
      "✅ Precisão: 0.9449\n",
      "✅ Revocação: 0.9464\n",
      "✅ F1-Score: 0.9420\n",
      "\n",
      "📄 Relatório de Classificação:\n",
      "              precision    recall  f1-score   support\n",
      "\n",
      "           0       0.50      1.00      0.67         3\n",
      "           1       0.98      0.98      0.98       103\n",
      "           2       0.00      0.00      0.00         1\n",
      "           3       0.67      0.40      0.50         5\n",
      "\n",
      "    accuracy                           0.95       112\n",
      "   macro avg       0.54      0.60      0.54       112\n",
      "weighted avg       0.94      0.95      0.94       112\n",
      "\n"
     ]
    }
   ],
   "source": [
    "#📑 Apresentação detalhada de métricas preditivas para cada algoritmo\n",
    "\n",
    "import numpy as np\n",
    "\n",
    "#📑 Apresentação detalhada de métricas preditivas para cada algoritmo \n",
    "for nome in top5_resultados['Modelo']:\n",
    "    print(f\"\\n🔍 Avaliando modelo: {nome}\")\n",
    "\n",
    "    # Tenta obter o modelo: da memória ou do disco\n",
    "    if nome in modelos_treinados:\n",
    "        modelo = modelos_treinados[nome]\n",
    "    else:\n",
    "        try:\n",
    "            caminho_modelo = f\"modelos_salvos/{nome}.pkl\"\n",
    "            modelo = joblib.load(caminho_modelo)\n",
    "            print(f\"📂 Modelo '{nome}' carregado do disco com sucesso.\")\n",
    "        except FileNotFoundError:\n",
    "            print(f\"❌ Modelo '{nome}' não foi treinado nesta execução e também não foi encontrado em disco.\")\n",
    "            continue  # neste caso, não tem como avaliar\n",
    "\n",
    "    # Tenta obter as previsões\n",
    "    if nome in y_preds:\n",
    "        y_pred = y_preds[nome]\n",
    "    else:\n",
    "        y_pred = modelo.predict(X_test)\n",
    "        y_preds[nome] = y_pred  # salva para reutilização, se necessário\n",
    "        \n",
    "    # Se y_test ou y_pred estiverem one-hot encoded, converta para labels originais\n",
    "    if y_test.ndim > 1 and y_test.shape[1] > 1:\n",
    "        y_test_labels = ohe.inverse_transform(y_test).ravel()\n",
    "    else:\n",
    "        y_test_labels = y_test\n",
    "    \n",
    "    if y_pred.ndim > 1 and y_pred.shape[1] > 1:\n",
    "        y_pred_labels = ohe.inverse_transform(y_pred).ravel()\n",
    "    else:\n",
    "        y_pred_labels = y_pred\n",
    "\n",
    "    # Define as classes presentes nos dados atuais\n",
    "    labels_presentes = np.unique(np.concatenate([y_test_labels, y_pred_labels]))\n",
    "\n",
    "    # Avaliação\n",
    "    acc = accuracy_score(y_test_labels, y_pred_labels)\n",
    "    prec = precision_score(y_test_labels, y_pred_labels, average='weighted', zero_division=0)\n",
    "    rec = recall_score(y_test_labels, y_pred_labels, average='weighted')\n",
    "    f1 = f1_score(y_test_labels, y_pred_labels, average='weighted')\n",
    "\n",
    "    print(f\"✅ Acurácia: {acc:.4f}\")\n",
    "    print(f\"✅ Precisão: {prec:.4f}\")\n",
    "    print(f\"✅ Revocação: {rec:.4f}\")\n",
    "    print(f\"✅ F1-Score: {f1:.4f}\")\n",
    "\n",
    "    # Relatório de classificação\n",
    "    print(\"\\n📄 Relatório de Classificação:\")\n",
    "    print(classification_report(\n",
    "        y_test_labels, \n",
    "        y_pred_labels,\n",
    "        labels=labels_presentes,\n",
    "        target_names=[str(c) for c in labels_presentes],\n",
    "        zero_division=0\n",
    "    ))\n",
    "\n"
   ]
  }
 ],
 "metadata": {
  "jupytext": {
   "cell_metadata_filter": "-all",
   "main_language": "python",
   "notebook_metadata_filter": "-all"
  },
  "kernelspec": {
   "display_name": "Python 3",
   "language": "python",
   "name": "python3"
  },
  "language_info": {
   "codemirror_mode": {
    "name": "ipython",
    "version": 3
   },
   "file_extension": ".py",
   "mimetype": "text/x-python",
   "name": "python",
   "nbconvert_exporter": "python",
   "pygments_lexer": "ipython3",
   "version": "3.13.2"
  }
 },
 "nbformat": 4,
 "nbformat_minor": 5
}
